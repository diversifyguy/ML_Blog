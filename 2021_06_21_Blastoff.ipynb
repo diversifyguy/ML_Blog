{
  "nbformat": 4,
  "nbformat_minor": 0,
  "metadata": {
    "kernelspec": {
      "name": "python3",
      "display_name": "Python 3",
      "language": "python"
    },
    "language_info": {
      "name": "python",
      "version": "3.7.10",
      "mimetype": "text/x-python",
      "codemirror_mode": {
        "name": "ipython",
        "version": 3
      },
      "pygments_lexer": "ipython3",
      "nbconvert_exporter": "python",
      "file_extension": ".py"
    },
    "varInspector": {
      "cols": {
        "lenName": 16,
        "lenType": 16,
        "lenVar": 40
      },
      "kernels_config": {
        "python": {
          "delete_cmd_postfix": "",
          "delete_cmd_prefix": "del ",
          "library": "var_list.py",
          "varRefreshCmd": "print(var_dic_list())"
        },
        "r": {
          "delete_cmd_postfix": ") ",
          "delete_cmd_prefix": "rm(",
          "library": "var_list.r",
          "varRefreshCmd": "cat(var_dic_list()) "
        }
      },
      "types_to_exclude": [
        "module",
        "function",
        "builtin_function_or_method",
        "instance",
        "_Feature"
      ],
      "window_display": false
    },
    "colab": {
      "name": "2021-06-21-Blastoff.ipynb",
      "provenance": []
    }
  },
  "cells": [
    {
      "cell_type": "markdown",
      "metadata": {
        "id": "PYOgOKTv3hTo"
      },
      "source": [
        "# Blastoff\n",
        "> My first blog post.\n",
        "\n",
        "- toc: true \n",
        "- badges: true\n",
        "- comments: true\n",
        "- categories: []\n",
        "- image: "
      ]
    },
    {
      "cell_type": "markdown",
      "metadata": {
        "id": "5jbflXSA3hTr"
      },
      "source": [
        "# Blastoff\n",
        "\n",
        "This is my first blog post. I've become interested in data science, machine learning, and artificial intelligence, and now here I am blogging about it. My hope is that blogging will help clarify my thoughts, sharpen my ideas, and elicit feedback from others. Thank you for your participation in this process!\n",
        "\n",
        "\n",
        "As a blogger, my goal is to heed Professor James Miller's three pieces of writing advice: be clear, be concise, and be interesting -- in that order of importance.\n"
      ]
    },
    {
      "cell_type": "markdown",
      "metadata": {
        "id": "D8dlRq1X3hTr"
      },
      "source": [
        "twitter: https://twitter.com/JimDMiller/status/1376642170694860805?s=20"
      ]
    },
    {
      "cell_type": "markdown",
      "metadata": {
        "id": "AsuRc2I83hTs"
      },
      "source": [
        "So without further ado, please wish me luck on this journey, and feel free to DM me anytime on Twitter @jjhoffstein. Thank you!!"
      ]
    }
  ]
}