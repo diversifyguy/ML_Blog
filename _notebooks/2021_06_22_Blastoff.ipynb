{
  "nbformat": 4,
  "nbformat_minor": 0,
  "metadata": {
    "kernelspec": {
      "name": "python3",
      "display_name": "Python 3",
      "language": "python"
    },
    "language_info": {
      "name": "python",
      "version": "3.7.10",
      "mimetype": "text/x-python",
      "codemirror_mode": {
        "name": "ipython",
        "version": 3
      },
      "pygments_lexer": "ipython3",
      "nbconvert_exporter": "python",
      "file_extension": ".py"
    },
    "varInspector": {
      "cols": {
        "lenName": 16,
        "lenType": 16,
        "lenVar": 40
      },
      "kernels_config": {
        "python": {
          "delete_cmd_postfix": "",
          "delete_cmd_prefix": "del ",
          "library": "var_list.py",
          "varRefreshCmd": "print(var_dic_list())"
        },
        "r": {
          "delete_cmd_postfix": ") ",
          "delete_cmd_prefix": "rm(",
          "library": "var_list.r",
          "varRefreshCmd": "cat(var_dic_list()) "
        }
      },
      "types_to_exclude": [
        "module",
        "function",
        "builtin_function_or_method",
        "instance",
        "_Feature"
      ],
      "window_display": false
    },
    "colab": {
      "name": "2021-06-22-Blastoff.ipynb",
      "provenance": [],
      "include_colab_link": true
    }
  },
  "cells": [
    {
      "cell_type": "markdown",
      "metadata": {
        "id": "view-in-github",
        "colab_type": "text"
      },
      "source": [
        "<a href=\"https://colab.research.google.com/github/diversifyguy/ML_Blog/blob/master/2021_06_22_Blastoff.ipynb\" target=\"_parent\"><img src=\"https://colab.research.google.com/assets/colab-badge.svg\" alt=\"Open In Colab\"/></a>"
      ]
    },
    {
      "cell_type": "markdown",
      "metadata": {
        "id": "PYOgOKTv3hTo"
      },
      "source": [
        "# Blastoff\n",
        "> My first blog post.\n",
        "\n",
        "- toc: true \n",
        "- badges: true\n",
        "- comments: true\n",
        "- categories: []\n",
        "- image: "
      ]
    },
    {
      "cell_type": "markdown",
      "metadata": {
        "id": "5jbflXSA3hTr"
      },
      "source": [
        "# Blastoff\n",
        "\n",
        "This is my first blog post. I've become interested in data science, machine learning, and artificial intelligence, and now here I am blogging about it. My hope is that blogging will help clarify my thoughts, sharpen my ideas, and elicit feedback from others. Thank you for your participation in this process!\n",
        "\n",
        "\n",
        "As a blogger, my goal is to heed Professor James Miller's three pieces of writing advice: *be clear, be concise, and be interesting -- in that order of importance.*\n"
      ]
    },
    {
      "cell_type": "markdown",
      "metadata": {
        "id": "Jp42DHIc-y6E"
      },
      "source": [
        "> twitter: https://twitter.com/JimDMiller/status/1376642170694860805?s=20"
      ]
    },
    {
      "cell_type": "markdown",
      "metadata": {
        "id": "AsuRc2I83hTs"
      },
      "source": [
        "So without further ado, please wish me luck on this journey, and feel free to DM me anytime on Twitter @jjhoffstein. Thank you!!"
      ]
    },
    {
      "cell_type": "markdown",
      "metadata": {
        "id": "Dgq3CBo72maJ"
      },
      "source": [
        "# What Classes Am I Taking?\n",
        "\n",
        "My plan is two take two classes: [Stanford's CSS 229](https://https://see.stanford.edu/Course/CS229), taught by Andrew Ng; and [fast.ai's Practical Deep Learning for Coders](https://course.fast.ai/), taught by Jeremy Howard. The former is more of a theory course, the latter is more of a practical course.\n",
        "\n",
        "If you're interested in learning more about Andrew Ng and his mission, I recommend this video:"
      ]
    },
    {
      "cell_type": "markdown",
      "metadata": {
        "id": "tqL9ihAl49BF"
      },
      "source": [
        "> youtube: https://youtu.be/0jspaMLxBig\n"
      ]
    },
    {
      "cell_type": "markdown",
      "metadata": {
        "id": "xarnAlnO4ohU"
      },
      "source": [
        "If you're interested in Jeremy Howard and his mission, I recommend this video: "
      ]
    },
    {
      "cell_type": "markdown",
      "metadata": {
        "id": "OpL-Gvp15KJd"
      },
      "source": [
        "> youtube: https://youtu.be/2uygOz2fORo"
      ]
    },
    {
      "cell_type": "markdown",
      "metadata": {
        "id": "lxgMq41Y5UJF"
      },
      "source": [
        "# Without Further Ado\n",
        "\n",
        "Let's get started!"
      ]
    },
    {
      "cell_type": "code",
      "metadata": {
        "colab": {
          "base_uri": "https://localhost:8080/"
        },
        "id": "AEYj0Uwk8-5I",
        "outputId": "47dab5d7-4f37-4d55-8066-84cbf7082a35"
      },
      "source": [
        "#hide\n",
        "%%bash\n",
        "\n",
        "# install required system dependencies\n",
        "apt-get install -y xvfb x11-utils\n",
        "\n",
        "# install required python dependencies (might need to install additional gym extras depending)\n",
        "pip install gym[box2d]==0.17.* pyvirtualdisplay==0.2.* PyOpenGL==3.1.* PyOpenGL-accelerate==3.1.*"
      ],
      "execution_count": 1,
      "outputs": [
        {
          "output_type": "stream",
          "text": [
            "Reading package lists...\n",
            "Building dependency tree...\n",
            "Reading state information...\n",
            "x11-utils is already the newest version (7.7+3build1).\n",
            "xvfb is already the newest version (2:1.19.6-1ubuntu4.9).\n",
            "0 upgraded, 0 newly installed, 0 to remove and 51 not upgraded.\n",
            "Requirement already satisfied: gym[box2d]==0.17.* in /usr/local/lib/python3.7/dist-packages (0.17.3)\n",
            "Requirement already satisfied: pyvirtualdisplay==0.2.* in /usr/local/lib/python3.7/dist-packages (0.2.5)\n",
            "Requirement already satisfied: PyOpenGL==3.1.* in /usr/local/lib/python3.7/dist-packages (3.1.5)\n",
            "Requirement already satisfied: PyOpenGL-accelerate==3.1.* in /usr/local/lib/python3.7/dist-packages (3.1.5)\n",
            "Requirement already satisfied: cloudpickle<1.7.0,>=1.2.0 in /usr/local/lib/python3.7/dist-packages (from gym[box2d]==0.17.*) (1.3.0)\n",
            "Requirement already satisfied: pyglet<=1.5.0,>=1.4.0 in /usr/local/lib/python3.7/dist-packages (from gym[box2d]==0.17.*) (1.5.0)\n",
            "Requirement already satisfied: numpy>=1.10.4 in /usr/local/lib/python3.7/dist-packages (from gym[box2d]==0.17.*) (1.19.5)\n",
            "Requirement already satisfied: scipy in /usr/local/lib/python3.7/dist-packages (from gym[box2d]==0.17.*) (1.4.1)\n",
            "Requirement already satisfied: box2d-py~=2.3.5; extra == \"box2d\" in /usr/local/lib/python3.7/dist-packages (from gym[box2d]==0.17.*) (2.3.8)\n",
            "Requirement already satisfied: EasyProcess in /usr/local/lib/python3.7/dist-packages (from pyvirtualdisplay==0.2.*) (0.3)\n",
            "Requirement already satisfied: future in /usr/local/lib/python3.7/dist-packages (from pyglet<=1.5.0,>=1.4.0->gym[box2d]==0.17.*) (0.16.0)\n"
          ],
          "name": "stdout"
        }
      ]
    },
    {
      "cell_type": "code",
      "metadata": {
        "id": "N_RneF9H9Gxa"
      },
      "source": [
        "#hide\n",
        "import pyvirtualdisplay\n",
        "\n",
        "\n",
        "_display = pyvirtualdisplay.Display(visible=False,  # use False with Xvfb\n",
        "                                    size=(1400, 900))\n",
        "_ = _display.start()"
      ],
      "execution_count": 2,
      "outputs": []
    },
    {
      "cell_type": "code",
      "metadata": {
        "id": "MLJhJIyg-bef"
      },
      "source": [
        "#hide\n",
        "import typing\n",
        "\n",
        "import numpy as np\n",
        "\n",
        "\n",
        "# represent states as arrays and actions as ints\n",
        "State = np.array\n",
        "Action = int\n",
        "\n",
        "# agent is just a function! \n",
        "Agent = typing.Callable[[State], Action]\n",
        "\n",
        "\n",
        "def uniform_random_policy(state: State,\n",
        "                          number_actions: int,\n",
        "                          random_state: np.random.RandomState) -> Action:\n",
        "    \"\"\"Select an action at random from the set of feasible actions.\"\"\"\n",
        "    feasible_actions = np.arange(number_actions)\n",
        "    probs = np.ones(number_actions) / number_actions\n",
        "    action = random_state.choice(feasible_actions, p=probs)\n",
        "    return action\n",
        "\n",
        "\n",
        "def make_random_agent(number_actions: int,\n",
        "                      random_state: np.random.RandomState = None) -> Agent:\n",
        "    \"\"\"Factory for creating an Agent.\"\"\"\n",
        "    _random_state = np.random.RandomState() if random_state is None else random_state\n",
        "    return lambda state: uniform_random_policy(state, number_actions, _random_state)"
      ],
      "execution_count": 3,
      "outputs": []
    },
    {
      "cell_type": "code",
      "metadata": {
        "id": "qQZ51JsP98Wx"
      },
      "source": [
        "#hide\n",
        "import gym\n",
        "import matplotlib.pyplot as plt\n",
        "from IPython import display\n",
        "\n",
        "\n",
        "def simulate(agent: Agent, env: gym.Env) -> None:\n",
        "    state = env.reset()\n",
        "    img = plt.imshow(env.render(mode='rgb_array'))\n",
        "    done = False\n",
        "    while not done:\n",
        "        action = agent(state)\n",
        "        img.set_data(env.render(mode='rgb_array')) \n",
        "        plt.axis('off')\n",
        "        display.display(plt.gcf())\n",
        "        display.clear_output(wait=True)\n",
        "        state, reward, done, _ = env.step(action)       \n",
        "    env.close()"
      ],
      "execution_count": 4,
      "outputs": []
    },
    {
      "cell_type": "code",
      "metadata": {
        "id": "tRiJkzNs-e02"
      },
      "source": [
        "#hide\n",
        "lunar_lander_v2 = gym.make('LunarLander-v2')\n",
        "_ = lunar_lander_v2.seed(42)"
      ],
      "execution_count": 5,
      "outputs": []
    },
    {
      "cell_type": "code",
      "metadata": {
        "colab": {
          "base_uri": "https://localhost:8080/",
          "height": 268
        },
        "id": "H9Xx7_e3-mwf",
        "outputId": "88403883-bed5-4f5b-cae8-fc1987744f32"
      },
      "source": [
        "#hide\n",
        "import matplotlib.pyplot as plt\n",
        "import gym\n",
        "from IPython import display\n",
        "%matplotlib inline\n",
        "\n",
        "env = gym.make('CartPole-v0')\n",
        "env.reset()\n",
        "\n",
        "for i in range(25):\n",
        "   plt.imshow(env.render(mode='rgb_array'))\n",
        "   display.display(plt.gcf())    \n",
        "   display.clear_output(wait=True)\n",
        "   env.step(env.action_space.sample()) # take a random action\n",
        "\n",
        "env.close()"
      ],
      "execution_count": 7,
      "outputs": [
        {
          "output_type": "display_data",
          "data": {
            "image/png": "[encoded data removed]",
            "text/plain": [
              "<Figure size 432x288 with 1 Axes>"
            ]
          },
          "metadata": {
            "tags": [],
            "needs_background": "light"
          }
        }
      ]
    }
  ]
}
