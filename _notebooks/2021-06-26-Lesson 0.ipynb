{
  "nbformat": 4,
  "nbformat_minor": 0,
  "metadata": {
    "kernelspec": {
      "name": "python3",
      "display_name": "Python 3",
      "language": "python"
    },
    "language_info": {
      "name": "python",
      "version": "3.7.10",
      "mimetype": "text/x-python",
      "codemirror_mode": {
        "name": "ipython",
        "version": 3
      },
      "pygments_lexer": "ipython3",
      "nbconvert_exporter": "python",
      "file_extension": ".py"
    },
    "varInspector": {
      "cols": {
        "lenName": 16,
        "lenType": 16,
        "lenVar": 40
      },
      "kernels_config": {
        "python": {
          "delete_cmd_postfix": "",
          "delete_cmd_prefix": "del ",
          "library": "var_list.py",
          "varRefreshCmd": "print(var_dic_list())"
        },
        "r": {
          "delete_cmd_postfix": ") ",
          "delete_cmd_prefix": "rm(",
          "library": "var_list.r",
          "varRefreshCmd": "cat(var_dic_list()) "
        }
      },
      "types_to_exclude": [
        "module",
        "function",
        "builtin_function_or_method",
        "instance",
        "_Feature"
      ],
      "window_display": false
    },
    "colab": {
      "name": "2021-06-22-Blastoff.ipynb",
      "provenance": [],
      "include_colab_link": true
    }
  },
  "cells": [
    {
      "cell_type": "markdown",
      "metadata": {
        "id": "view-in-github",
        "colab_type": "text"
      },
      "source": [
        "<a href=\"https://colab.research.google.com/github/diversifyguy/ML_Blog/blob/master/2021_06_22_Blastoff.ipynb\" target=\"_parent\"><img src=\"https://colab.research.google.com/assets/colab-badge.svg\" alt=\"Open In Colab\"/></a>"
      ]
    },
    {
      "cell_type": "markdown",
      "metadata": {
        "id": "PYOgOKTv3hTo"
      },
      "source": [
        "# Lesson 0\n",
        "> Tips before getting started from Jeremy Howard.\n",
        "\n",
        "- toc: true \n",
        "- badges: true\n",
        "- comments: true\n",
        "- categories: [Tips]\n",
        "- image: /Users/jhoffstein/Documents/GitHub/ML_Blog/images/Screen Shot 2021-06-26 at 12.41.01 PM.png"
      ]
    },
    {
      "cell_type": "markdown",
      "metadata": {
        "id": "5jbflXSA3hTr"
      },
      "source": [
        "# Lesson 0\n",
        "\n",
        "At ~14k views, this is a very under-watched video from Jeremy Howard. Wanted to share it and pass along my biggest takeaways.\n"
      ]
    },
    {
      "cell_type": "markdown",
      "metadata": {
        "id": "OpL-Gvp15KJd"
      },
      "source": [
        "> youtube: https://www.youtube.com/watch?v=gGxe2mN3kAg"
      ]
    },
    {
      "cell_type": "markdown",
      "metadata": {
        "id": "lxgMq41Y5UJF"
      },
      "source": [
        "# 1) Don't Quit\n",
        "\n",
        "\"Tenacity\" is the key attribute of those who end up succeeding. Enjoying the small successes along the way and embracing the grind of working through problems is the essence of learning. This is reminiscent of Simon Sinek's insight here: \n",
        "\n",
        "> twitter: https://twitter.com/simonsinek/status/1339650938668257283\n",
        "\n",
        "# 2) Learn by Doing\n",
        "\n",
        "The best way to learn is to jump in and train as many models as possible. Enter Kaggle competitions; test out hypotheses; do your own data tinkering. You can't learn to ski by reading a book; you just have to hit the slopes and learn from your errors. \n",
        "\n",
        "# 3) Build Your Portfolio Along the Way\n",
        "\n",
        "When you \"learn by doing,\" think of yourself as building a portfolio of projects that will serve as a type of resume for future job interviews. This helps clarify your intentions and raises the stakes for the work you do along the way. \n",
        "\n",
        "# 4) Build Models Incrementally\n",
        "\n",
        "In the [Spaghetti Tower Marshmellow Challenge](https://tinkerlab.com/spaghetti-tower-marshmallow-challenge/), successful teams tend not to wait until the end to test their model; instead, they test and tinker and test and tinker. This is also the best approach with ML models. \n",
        "\n",
        "# 5) Compare Against a Baseline\n",
        "\n",
        "You can fool yourself into thinking that some ML model you built is really smart when really it's no better than a simple baseline model. Always establish a baseline first so that you know what you're up against. \n",
        "\n",
        "# 6) Utilize the Community\n",
        "\n",
        "There is a great AI community both on [forums.fast.ai](https://forums.fast.ai) and on Twitter. I'm excited to dive in and see what I can learn!\n",
        "\n",
        "\n",
        "\n",
        "\n",
        "\n",
        "\n",
        "\n"
      ]
    }
  ]
}