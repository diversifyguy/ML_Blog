{
  "cells": [
    {
      "cell_type": "markdown",
      "metadata": {
        "colab_type": "text",
        "id": "view-in-github"
      },
      "source": [
        "<a href=\"https://colab.research.google.com/github/diversifyguy/ML_Blog/blob/master/2021_06_22_Blastoff.ipynb\" target=\"_parent\"><img src=\"https://colab.research.google.com/assets/colab-badge.svg\" alt=\"Open In Colab\"/></a>"
      ]
    },
    {
      "cell_type": "markdown",
      "metadata": {
        "id": "PYOgOKTv3hTo"
      },
      "source": [
        "# NBA Interview Analysis\n",
        "> Can we learn anything useful from NBA interviews?\n",
        "\n",
        "- toc: true \n",
        "- badges: true\n",
        "- comments: true\n",
        "- categories: [NBA, NLP]\n",
        "- image: "
      ]
    },
    {
      "cell_type": "markdown",
      "metadata": {
        "id": "5jbflXSA3hTr"
      },
      "source": [
        "# NBA Interviews\n",
        "\n",
        "Well rehearsed and comically repetitive, interviews with professional athletes lead to more eye rolling than genuine interest among even the most devoted fans. However, if studied with the right approach on a sufficiently large dataset, we may be able to extract some interesting insights from these contractually obligated rituals.\n",
        "\n",
        "We’ll use Beautiful Soup and HTML tagging to gather and organize data, open source (and one designed by yours truly) text classification methods, and matplotlib to showcase the results.\n",
        "\n",
        "We gather data from ASAP Sports, a website that provides athlete interview transcripts to journalists. We use practice day interviews with players and coaches during the Stanley Cup Finals, starting with the year 1997 and ending with 2019. Mathieu Bray’s comparison¹ of coaches Mike Sullivan and Peter DeBoer inspired much of this blog post, most notably the use of ASAP Sports.\n"
      ]
    },
    {
      "cell_type": "markdown",
      "metadata": {
        "id": "Dgq3CBo72maJ"
      },
      "source": [
        "# Web Scraping\n",
        "\n",
        "My plan is two take two classes: [Stanford's CSS 229](https://https://see.stanford.edu/Course/CS229), taught by Andrew Ng; and [fast.ai's Practical Deep Learning for Coders](https://course.fast.ai/), taught by Jeremy Howard. The former is more of a theory course, the latter is more of a practical course.\n",
        "\n",
        "If you're interested in learning more about Andrew Ng and his mission, I recommend this video:"
      ]
    },
    {
      "cell_type": "markdown",
      "metadata": {
        "id": "tqL9ihAl49BF"
      },
      "source": [
        "> youtube: https://youtu.be/0jspaMLxBig\n"
      ]
    },
    {
      "cell_type": "markdown",
      "metadata": {
        "id": "xarnAlnO4ohU"
      },
      "source": [
        "If you're interested in Jeremy Howard and his mission, I recommend this video: "
      ]
    },
    {
      "cell_type": "markdown",
      "metadata": {
        "id": "OpL-Gvp15KJd"
      },
      "source": [
        "> youtube: https://youtu.be/2uygOz2fORo"
      ]
    },
    {
      "cell_type": "markdown",
      "metadata": {
        "id": "lxgMq41Y5UJF"
      },
      "source": [
        "# Without Further Ado\n",
        "\n",
        "Let's get started!"
      ]
    }
  ],
  "metadata": {
    "colab": {
      "include_colab_link": true,
      "name": "2021-06-22-Blastoff.ipynb",
      "provenance": []
    },
    "interpreter": {
      "hash": "5edc29c2ed010d6458d71a83433b383a96a8cbd3efe8531bc90c4b8a5b8bcec9"
    },
    "kernelspec": {
      "display_name": "Python 3.8.2 64-bit ('usr')",
      "name": "python3"
    },
    "language_info": {
      "name": "python",
      "version": ""
    },
    "varInspector": {
      "cols": {
        "lenName": 16,
        "lenType": 16,
        "lenVar": 40
      },
      "kernels_config": {
        "python": {
          "delete_cmd_postfix": "",
          "delete_cmd_prefix": "del ",
          "library": "var_list.py",
          "varRefreshCmd": "print(var_dic_list())"
        },
        "r": {
          "delete_cmd_postfix": ") ",
          "delete_cmd_prefix": "rm(",
          "library": "var_list.r",
          "varRefreshCmd": "cat(var_dic_list()) "
        }
      },
      "types_to_exclude": [
        "module",
        "function",
        "builtin_function_or_method",
        "instance",
        "_Feature"
      ],
      "window_display": false
    }
  },
  "nbformat": 4,
  "nbformat_minor": 0
}