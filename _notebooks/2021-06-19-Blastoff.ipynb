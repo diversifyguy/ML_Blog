{
 "cells": [
  {
   "cell_type": "code",
   "execution_count": null,
   "id": "starting-cream",
   "metadata": {},
   "outputs": [],
   "source": [
    "# \"Blastoff\"\n",
    "> \"My first blog post\"\n",
    "\n",
    "- toc: true\n",
    "- branch: master\n",
    "- badges: true\n",
    "- comments: true\n",
    "- author: JJ Hoffstein\n",
    "- categories: []"
   ]
  },
  {
   "cell_type": "code",
   "execution_count": null,
   "id": "composed-builder",
   "metadata": {},
   "outputs": [],
   "source": [
    "Hi - this is my first blog post. I've gotten interested in data science, machine learning, and artificial intelligence, and now here I am blogging about it. My hope is that blogging will help clarify my thoughts, sharpen my ideas, and elicit feedback from others."
   ]
  },
  {
   "cell_type": "code",
   "execution_count": null,
   "id": "varying-unknown",
   "metadata": {},
   "outputs": [],
   "source": [
    "To that end, my goal is to remain faithful to Professor James Miller's three pieces of writing advice: be clear, be concise, be interesting -- in that order of importance."
   ]
  },
  {
   "cell_type": "code",
   "execution_count": null,
   "id": "facial-lightning",
   "metadata": {},
   "outputs": [],
   "source": [
    "twitter: https://twitter.com/JimDMiller/status/1376642170694860805?s=20\n",
    "\n"
   ]
  }
 ],
 "metadata": {
  "kernelspec": {
   "display_name": "Python 3",
   "language": "python",
   "name": "python3"
  },
  "language_info": {
   "codemirror_mode": {
    "name": "ipython",
    "version": 3
   },
   "file_extension": ".py",
   "mimetype": "text/x-python",
   "name": "python",
   "nbconvert_exporter": "python",
   "pygments_lexer": "ipython3",
   "version": "3.7.8"
  }
 },
 "nbformat": 4,
 "nbformat_minor": 5
}
