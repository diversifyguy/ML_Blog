{
  "nbformat": 4,
  "nbformat_minor": 0,
  "metadata": {
    "kernelspec": {
      "name": "python3",
      "display_name": "Python 3",
      "language": "python"
    },
    "language_info": {
      "name": "python",
      "version": "3.7.10",
      "mimetype": "text/x-python",
      "codemirror_mode": {
        "name": "ipython",
        "version": 3
      },
      "pygments_lexer": "ipython3",
      "nbconvert_exporter": "python",
      "file_extension": ".py"
    },
    "varInspector": {
      "cols": {
        "lenName": 16,
        "lenType": 16,
        "lenVar": 40
      },
      "kernels_config": {
        "python": {
          "delete_cmd_postfix": "",
          "delete_cmd_prefix": "del ",
          "library": "var_list.py",
          "varRefreshCmd": "print(var_dic_list())"
        },
        "r": {
          "delete_cmd_postfix": ") ",
          "delete_cmd_prefix": "rm(",
          "library": "var_list.r",
          "varRefreshCmd": "cat(var_dic_list()) "
        }
      },
      "types_to_exclude": [
        "module",
        "function",
        "builtin_function_or_method",
        "instance",
        "_Feature"
      ],
      "window_display": false
    },
    "colab": {
      "name": "2021-06-22-Blastoff.ipynb",
      "provenance": [],
      "include_colab_link": true
    }
  },
  "cells": [
    {
      "cell_type": "markdown",
      "metadata": {
        "id": "view-in-github",
        "colab_type": "text"
      },
      "source": [
        "<a href=\"https://colab.research.google.com/github/diversifyguy/ML_Blog/blob/master/2021_06_22_Blastoff.ipynb\" target=\"_parent\"><img src=\"https://colab.research.google.com/assets/colab-badge.svg\" alt=\"Open In Colab\"/></a>"
      ]
    },
    {
      "cell_type": "markdown",
      "metadata": {
        "id": "PYOgOKTv3hTo"
      },
      "source": [
        "# Beginning\n",
        "> My first blog post.\n",
        "\n",
        "- toc: true \n",
        "- badges: true\n",
        "- comments: true\n",
        "- categories: []\n",
        "- image: "
      ]
    },
    {
      "cell_type": "markdown",
      "metadata": {
        "id": "5jbflXSA3hTr"
      },
      "source": [
        "# Beginning\n",
        "\n",
        "This is my first blog post. I've become interested in data science, machine learning, and artificial intelligence, and now here I am blogging about it. My hope is that blogging will help clarify my thoughts, sharpen my ideas, and elicit feedback from others. Thank you for your participation in this process!\n",
        "\n",
        "\n",
        "As a blogger, my goal is to heed Professor James Miller's three pieces of writing advice: *be clear, be concise, and be interesting -- in that order of importance.*\n"
      ]
    },
    {
      "cell_type": "markdown",
      "metadata": {
        "id": "Jp42DHIc-y6E"
      },
      "source": [
        "> twitter: https://twitter.com/JimDMiller/status/1376642170694860805?s=20"
      ]
    },
    {
      "cell_type": "markdown",
      "metadata": {
        "id": "AsuRc2I83hTs"
      },
      "source": [
        "Please wish me luck on this journey, and feel free to DM me anytime on Twitter [@jjhoffstein](https://twitter.com/JJHoffstein). Thank you!!"
      ]
    },
    {
      "cell_type": "markdown",
      "metadata": {
        "id": "Dgq3CBo72maJ"
      },
      "source": [
        "# What Classes Am I Taking?\n",
        "\n",
        "My plan is two take two classes: [Stanford's CSS 229](https://https://see.stanford.edu/Course/CS229), taught by Andrew Ng; and [fast.ai's Practical Deep Learning for Coders](https://course.fast.ai/), taught by Jeremy Howard. The former is more of a theory course, the latter is more of a practical course.\n",
        "\n",
        "If you're interested in learning more about Andrew Ng and his mission, I recommend this video:"
      ]
    },
    {
      "cell_type": "markdown",
      "metadata": {
        "id": "tqL9ihAl49BF"
      },
      "source": [
        "> youtube: https://youtu.be/0jspaMLxBig\n"
      ]
    },
    {
      "cell_type": "markdown",
      "metadata": {
        "id": "xarnAlnO4ohU"
      },
      "source": [
        "If you're interested in Jeremy Howard and his mission, I recommend this video: "
      ]
    },
    {
      "cell_type": "markdown",
      "metadata": {
        "id": "OpL-Gvp15KJd"
      },
      "source": [
        "> youtube: https://youtu.be/2uygOz2fORo"
      ]
    },
    {
      "cell_type": "markdown",
      "metadata": {
        "id": "lxgMq41Y5UJF"
      },
      "source": [
        "# Without Further Ado\n",
        "\n",
        "Let's get started!"
      ]
    }
  ]
}